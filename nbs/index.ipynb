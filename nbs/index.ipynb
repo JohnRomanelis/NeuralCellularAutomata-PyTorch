{
 "cells": [
  {
   "cell_type": "markdown",
   "metadata": {},
   "source": [
    "# Neural Cellular Automata - PyTorch \n",
    "\n",
    "> This work is a notebook PyTorch re-implementation of [Growing Neural Cellular Automata](https://distill.pub/2020/growing-ca/)."
   ]
  },
  {
   "cell_type": "markdown",
   "metadata": {},
   "source": [
    "## Install"
   ]
  },
  {
   "cell_type": "markdown",
   "metadata": {},
   "source": [
    "To run the code:\n",
    "1. Clone the repo\n",
    "2. CD inside the main directory and run `pip install -e .' \n",
    "\n",
    "This project is based on [nbdev](https://nbdev.fast.ai/), so please check their documentation for further information. "
   ]
  },
  {
   "cell_type": "markdown",
   "metadata": {},
   "source": [
    "## How to read\n",
    "Inside the nbs there are the notebooks that implement the proposed method. The notebooks are numbered in ascending ordered and every notebook uses tools developed in the previous ones.\n",
    "\n",
    "There are 3 main experiments (using the titles from the original version).\n",
    "\n",
    "### 1. Learning to Grow\n",
    "\n",
    "In this experiment we train the automato to generate from an original state (seed) to its final form.\n",
    "\n",
    "![Alt Text](../images/grow.gif)\n",
    "\n",
    "### 2. What Persists, Exists\n",
    "\n",
    "In this experiment we train the automato to maintain its final form as time passes. \n",
    "\n",
    "![Alt Text](../images/exist.gif)\n",
    "\n",
    "### 3. Learning to Regenerate\n",
    "\n",
    "In this experiment, we train the automaton to recover from specific types of corruption that may be applied to it.\n",
    "\n",
    "<div style=\"display: flex; justify-content: space-between;\">\n",
    "  <img src=\"../images/regeneration1.gif\" alt=\"First GIF\" style=\"width: 25%;\">\n",
    "  <img src=\"../images/regeneration2.gif\" alt=\"Second GIF\" style=\"width: 25%;\">\n",
    "</div>"
   ]
  },
  {
   "cell_type": "markdown",
   "metadata": {},
   "source": [
    "## Notes\n",
    "\n",
    " - In case the loss in experiments 2 or 3 is not dropping restart the notebook. It seems that the network converges to a local minima where it kills all cells from the first step and thus this state cannot change in the process. A possible fix would be to train the network solely on the growing task and then use the pool to train the model in achieving percistance and regenaration abilities. "
   ]
  },
  {
   "cell_type": "code",
   "execution_count": null,
   "metadata": {},
   "outputs": [],
   "source": []
  }
 ],
 "metadata": {
  "kernelspec": {
   "display_name": "python3",
   "language": "python",
   "name": "python3"
  }
 },
 "nbformat": 4,
 "nbformat_minor": 4
}
