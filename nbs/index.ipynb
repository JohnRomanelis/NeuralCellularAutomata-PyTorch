{
 "cells": [
  {
   "cell_type": "markdown",
   "metadata": {},
   "source": [
    "# NeuralCellularAutomata-PyTorch\n",
    "\n",
    "> This work is a notebook PyTorch re-implementation of [Growing Neural Cellular Automata](https://distill.pub/2020/growing-ca/)."
   ]
  },
  {
   "cell_type": "markdown",
   "metadata": {},
   "source": [
    "## Install"
   ]
  },
  {
   "cell_type": "markdown",
   "metadata": {},
   "source": [
    "To run the code:\n",
    "1. Clone the repo\n",
    "2. CD inside the main directory and run `pip install -e .' \n",
    "\n",
    "This project is based on [nbdev](https://nbdev.fast.ai/), so please check their documentation for further information. "
   ]
  },
  {
   "cell_type": "markdown",
   "metadata": {},
   "source": [
    "## How to read\n",
    "Inside the nbs there are the notebooks that implement the proposed method. The notebooks are numbered in ascending ordered and every notebook uses tools developed in the previous ones."
   ]
  }
 ],
 "metadata": {
  "kernelspec": {
   "display_name": "python3",
   "language": "python",
   "name": "python3"
  }
 },
 "nbformat": 4,
 "nbformat_minor": 4
}
